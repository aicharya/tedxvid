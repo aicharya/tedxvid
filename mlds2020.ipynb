{
  "nbformat": 4,
  "nbformat_minor": 0,
  "metadata": {
    "colab": {
      "name": "mlds2020.ipynb",
      "provenance": [],
      "collapsed_sections": [],
      "authorship_tag": "ABX9TyNYWWwtMD89/b45Uk6rOuak",
      "include_colab_link": true
    },
    "kernelspec": {
      "name": "python3",
      "display_name": "Python 3"
    }
  },
  "cells": [
    {
      "cell_type": "markdown",
      "metadata": {
        "id": "view-in-github",
        "colab_type": "text"
      },
      "source": [
        "<a href=\"https://colab.research.google.com/github/aicharya/tedxvid/blob/master/mlds2020.ipynb\" target=\"_parent\"><img src=\"https://colab.research.google.com/assets/colab-badge.svg\" alt=\"Open In Colab\"/></a>"
      ]
    },
    {
      "cell_type": "code",
      "metadata": {
        "id": "6GcZMC47EhlY",
        "colab_type": "code",
        "colab": {
          "base_uri": "https://localhost:8080/",
          "height": 123
        },
        "outputId": "c8dd4bef-5a58-44d9-fb0a-327d24359c38"
      },
      "source": [
        "!git clone https://github.com/aicharya/tedxvid.git"
      ],
      "execution_count": 1,
      "outputs": [
        {
          "output_type": "stream",
          "text": [
            "Cloning into 'tedxvid'...\n",
            "remote: Enumerating objects: 10, done.\u001b[K\n",
            "remote: Counting objects: 100% (10/10), done.\u001b[K\n",
            "remote: Compressing objects: 100% (8/8), done.\u001b[K\n",
            "remote: Total 10 (delta 0), reused 0 (delta 0), pack-reused 0\u001b[K\n",
            "Unpacking objects: 100% (10/10), done.\n"
          ],
          "name": "stdout"
        }
      ]
    },
    {
      "cell_type": "code",
      "metadata": {
        "id": "tVNL3dzfFw4M",
        "colab_type": "code",
        "colab": {
          "base_uri": "https://localhost:8080/",
          "height": 52
        },
        "outputId": "8536c9e0-f81f-4742-8feb-e1d99d05da8c"
      },
      "source": [
        "!cd tedxvid; ls"
      ],
      "execution_count": 3,
      "outputs": [
        {
          "output_type": "stream",
          "text": [
            "README.md\t\tTest_Data.csv\tTrain_Data.csv\n",
            "Sample_submission.xlsx\tTest_Data.xlsx\tTrain_Data.xlsx\n"
          ],
          "name": "stdout"
        }
      ]
    },
    {
      "cell_type": "markdown",
      "metadata": {
        "id": "hg-LpqmkFyQF",
        "colab_type": "text"
      },
      "source": [
        "Open train data\n",
        "Clean up"
      ]
    },
    {
      "cell_type": "code",
      "metadata": {
        "id": "cJjkZFcvFw-B",
        "colab_type": "code",
        "colab": {}
      },
      "source": [
        "import os\n",
        "\n",
        "os.chdir(\"tedxvid\")"
      ],
      "execution_count": 0,
      "outputs": []
    },
    {
      "cell_type": "markdown",
      "metadata": {
        "id": "IVM5TCHaGzKs",
        "colab_type": "text"
      },
      "source": [
        ""
      ]
    },
    {
      "cell_type": "code",
      "metadata": {
        "id": "2c-yb1CpGzXW",
        "colab_type": "code",
        "colab": {
          "base_uri": "https://localhost:8080/",
          "height": 141
        },
        "outputId": "bd71791c-47f4-41a0-f2da-cf4320d67190"
      },
      "source": [
        "os.listdir()"
      ],
      "execution_count": 9,
      "outputs": [
        {
          "output_type": "execute_result",
          "data": {
            "text/plain": [
              "['Train_Data.xlsx',\n",
              " 'Test_Data.xlsx',\n",
              " 'Test_Data.csv',\n",
              " 'Sample_submission.xlsx',\n",
              " 'README.md',\n",
              " '.git',\n",
              " 'Train_Data.csv']"
            ]
          },
          "metadata": {
            "tags": []
          },
          "execution_count": 9
        }
      ]
    },
    {
      "cell_type": "code",
      "metadata": {
        "id": "YkvYJ3-EG4Cc",
        "colab_type": "code",
        "colab": {}
      },
      "source": [
        "import pandas as pd\n",
        "train_data = pd.read_csv(\"Train_Data.csv\", encoding = 'unicode_escape')"
      ],
      "execution_count": 0,
      "outputs": []
    },
    {
      "cell_type": "code",
      "metadata": {
        "id": "HgbF2OvYHmCn",
        "colab_type": "code",
        "colab": {
          "base_uri": "https://localhost:8080/",
          "height": 860
        },
        "outputId": "0df55bbd-5df9-45aa-e24f-9c8bcd4479d0"
      },
      "source": [
        "train_data"
      ],
      "execution_count": 19,
      "outputs": [
        {
          "output_type": "execute_result",
          "data": {
            "text/html": [
              "<div>\n",
              "<style scoped>\n",
              "    .dataframe tbody tr th:only-of-type {\n",
              "        vertical-align: middle;\n",
              "    }\n",
              "\n",
              "    .dataframe tbody tr th {\n",
              "        vertical-align: top;\n",
              "    }\n",
              "\n",
              "    .dataframe thead th {\n",
              "        text-align: right;\n",
              "    }\n",
              "</style>\n",
              "<table border=\"1\" class=\"dataframe\">\n",
              "  <thead>\n",
              "    <tr style=\"text-align: right;\">\n",
              "      <th></th>\n",
              "      <th>Talk_ID</th>\n",
              "      <th>Speaker</th>\n",
              "      <th>Topic</th>\n",
              "      <th>Source_Url</th>\n",
              "      <th>Video_Description</th>\n",
              "      <th>Staged_At</th>\n",
              "      <th>Video_Duration</th>\n",
              "      <th>Date_Created(mm/yyyy)</th>\n",
              "      <th>Publised_On</th>\n",
              "      <th>Total_Views</th>\n",
              "    </tr>\n",
              "  </thead>\n",
              "  <tbody>\n",
              "    <tr>\n",
              "      <th>0</th>\n",
              "      <td>436</td>\n",
              "      <td>David Carson</td>\n",
              "      <td>Design and discovery</td>\n",
              "      <td>http://www.ted.com/talks/view/id/436</td>\n",
              "      <td>Great design is a never-ending journey of disc...</td>\n",
              "      <td>TED2003</td>\n",
              "      <td>0:22:39</td>\n",
              "      <td>2/2003</td>\n",
              "      <td>1/19/09</td>\n",
              "      <td>13.540864</td>\n",
              "    </tr>\n",
              "    <tr>\n",
              "      <th>1</th>\n",
              "      <td>1359</td>\n",
              "      <td>Lucien Engelen</td>\n",
              "      <td>Crowdsource your health</td>\n",
              "      <td>http://www.ted.com/talks/view/id/1359</td>\n",
              "      <td>You can use your smartphone to find a local AT...</td>\n",
              "      <td>TEDxMaastricht</td>\n",
              "      <td>0:06:12</td>\n",
              "      <td>4/2011</td>\n",
              "      <td>2/15/12</td>\n",
              "      <td>12.565815</td>\n",
              "    </tr>\n",
              "    <tr>\n",
              "      <th>2</th>\n",
              "      <td>39</td>\n",
              "      <td>Aubrey de Grey</td>\n",
              "      <td>A roadmap to end aging</td>\n",
              "      <td>http://www.ted.com/talks/view/id/39</td>\n",
              "      <td>Cambridge researcher Aubrey de Grey argues tha...</td>\n",
              "      <td>TEDGlobal 2005</td>\n",
              "      <td>0:22:45</td>\n",
              "      <td>7/2005</td>\n",
              "      <td>10/2/06</td>\n",
              "      <td>14.979614</td>\n",
              "    </tr>\n",
              "    <tr>\n",
              "      <th>3</th>\n",
              "      <td>1144</td>\n",
              "      <td>Amit Sood</td>\n",
              "      <td>Building a museum of museums on the web</td>\n",
              "      <td>http://www.ted.com/talks/view/id/1144</td>\n",
              "      <td>Imagine being able to see artwork in the great...</td>\n",
              "      <td>TED2011</td>\n",
              "      <td>0:05:35</td>\n",
              "      <td>3/2011</td>\n",
              "      <td>5/12/11</td>\n",
              "      <td>13.305113</td>\n",
              "    </tr>\n",
              "    <tr>\n",
              "      <th>4</th>\n",
              "      <td>837</td>\n",
              "      <td>Tom Wujec</td>\n",
              "      <td>Build a tower, build a team</td>\n",
              "      <td>http://www.ted.com/talks/view/id/837</td>\n",
              "      <td>Tom Wujec presents some surprisingly deep rese...</td>\n",
              "      <td>TED2010</td>\n",
              "      <td>0:06:51</td>\n",
              "      <td>2/2010</td>\n",
              "      <td>4/22/10</td>\n",
              "      <td>15.118939</td>\n",
              "    </tr>\n",
              "    <tr>\n",
              "      <th>...</th>\n",
              "      <td>...</td>\n",
              "      <td>...</td>\n",
              "      <td>...</td>\n",
              "      <td>...</td>\n",
              "      <td>...</td>\n",
              "      <td>...</td>\n",
              "      <td>...</td>\n",
              "      <td>...</td>\n",
              "      <td>...</td>\n",
              "      <td>...</td>\n",
              "    </tr>\n",
              "    <tr>\n",
              "      <th>1727</th>\n",
              "      <td>2260</td>\n",
              "      <td>Sara Seager</td>\n",
              "      <td>The search for planets beyond our solar system</td>\n",
              "      <td>http://www.ted.com/talks/view/id/2260</td>\n",
              "      <td>Every star we see in the sky has at least one ...</td>\n",
              "      <td>TED2015</td>\n",
              "      <td>0:16:14</td>\n",
              "      <td>3/2015</td>\n",
              "      <td>5/28/15</td>\n",
              "      <td>14.116902</td>\n",
              "    </tr>\n",
              "    <tr>\n",
              "      <th>1728</th>\n",
              "      <td>1501</td>\n",
              "      <td>Jane McGonigal</td>\n",
              "      <td>The game that can give you 10 extra years of life</td>\n",
              "      <td>http://www.ted.com/talks/view/id/1501</td>\n",
              "      <td>When game designer Jane McGonigal found hersel...</td>\n",
              "      <td>TEDGlobal 2012</td>\n",
              "      <td>0:19:30</td>\n",
              "      <td>6/2012</td>\n",
              "      <td>7/9/12</td>\n",
              "      <td>15.611244</td>\n",
              "    </tr>\n",
              "    <tr>\n",
              "      <th>1729</th>\n",
              "      <td>1645</td>\n",
              "      <td>Boghuma Kabisen Titanji</td>\n",
              "      <td>Ethical riddles in HIV research</td>\n",
              "      <td>http://www.ted.com/talks/view/id/1645</td>\n",
              "      <td>A woman in sub-Saharan Africa is part of a cut...</td>\n",
              "      <td>TEDxGoodenoughCollege</td>\n",
              "      <td>0:11:10</td>\n",
              "      <td>3/2012</td>\n",
              "      <td>1/10/13</td>\n",
              "      <td>13.070137</td>\n",
              "    </tr>\n",
              "    <tr>\n",
              "      <th>1730</th>\n",
              "      <td>1937</td>\n",
              "      <td>Annette Heuser</td>\n",
              "      <td>The 3 agencies with the power to make or break...</td>\n",
              "      <td>http://www.ted.com/talks/view/id/1937</td>\n",
              "      <td>The way we rate national economies is all wron...</td>\n",
              "      <td>TEDGlobal 2013</td>\n",
              "      <td>0:09:49</td>\n",
              "      <td>6/2013</td>\n",
              "      <td>2/28/14</td>\n",
              "      <td>14.002020</td>\n",
              "    </tr>\n",
              "    <tr>\n",
              "      <th>1731</th>\n",
              "      <td>2132</td>\n",
              "      <td>Ramanan Laxminarayan</td>\n",
              "      <td>The coming crisis in antibiotics</td>\n",
              "      <td>http://www.ted.com/talks/view/id/2132</td>\n",
              "      <td>Antibiotic drugs save lives. But we simply use...</td>\n",
              "      <td>TEDMED 2014</td>\n",
              "      <td>0:14:42</td>\n",
              "      <td>9/2014</td>\n",
              "      <td>11/10/14</td>\n",
              "      <td>13.753907</td>\n",
              "    </tr>\n",
              "  </tbody>\n",
              "</table>\n",
              "<p>1732 rows × 10 columns</p>\n",
              "</div>"
            ],
            "text/plain": [
              "      Talk_ID                  Speaker  ... Publised_On Total_Views\n",
              "0         436             David Carson  ...     1/19/09   13.540864\n",
              "1        1359           Lucien Engelen  ...     2/15/12   12.565815\n",
              "2          39           Aubrey de Grey  ...     10/2/06   14.979614\n",
              "3        1144                Amit Sood  ...     5/12/11   13.305113\n",
              "4         837                Tom Wujec  ...     4/22/10   15.118939\n",
              "...       ...                      ...  ...         ...         ...\n",
              "1727     2260              Sara Seager  ...     5/28/15   14.116902\n",
              "1728     1501           Jane McGonigal  ...      7/9/12   15.611244\n",
              "1729     1645  Boghuma Kabisen Titanji  ...     1/10/13   13.070137\n",
              "1730     1937           Annette Heuser  ...     2/28/14   14.002020\n",
              "1731     2132     Ramanan Laxminarayan  ...    11/10/14   13.753907\n",
              "\n",
              "[1732 rows x 10 columns]"
            ]
          },
          "metadata": {
            "tags": []
          },
          "execution_count": 19
        }
      ]
    },
    {
      "cell_type": "code",
      "metadata": {
        "id": "egjgHXP-I2L2",
        "colab_type": "code",
        "colab": {
          "base_uri": "https://localhost:8080/",
          "height": 87
        },
        "outputId": "048756de-34da-46fc-cb1c-3fda7cd2fb6c"
      },
      "source": [
        "train_data.columns"
      ],
      "execution_count": 28,
      "outputs": [
        {
          "output_type": "execute_result",
          "data": {
            "text/plain": [
              "Index(['Talk_ID', 'Speaker', 'Topic', 'Source_Url', 'Video_Description',\n",
              "       'Staged_At', 'Video_Duration', 'Date_Created(mm/yyyy)', 'Publised_On',\n",
              "       'Total_Views'],\n",
              "      dtype='object')"
            ]
          },
          "metadata": {
            "tags": []
          },
          "execution_count": 28
        }
      ]
    },
    {
      "cell_type": "code",
      "metadata": {
        "id": "7WO9MZ8tO6i7",
        "colab_type": "code",
        "colab": {
          "base_uri": "https://localhost:8080/",
          "height": 230
        },
        "outputId": "a392df77-91ab-4777-f133-e2dc95f039cd"
      },
      "source": [
        "train_data['Publised_On']"
      ],
      "execution_count": 49,
      "outputs": [
        {
          "output_type": "execute_result",
          "data": {
            "text/plain": [
              "0        1/19/09\n",
              "1        2/15/12\n",
              "2        10/2/06\n",
              "3        5/12/11\n",
              "4        4/22/10\n",
              "          ...   \n",
              "1727     5/28/15\n",
              "1728      7/9/12\n",
              "1729     1/10/13\n",
              "1730     2/28/14\n",
              "1731    11/10/14\n",
              "Name: Publised_On, Length: 1732, dtype: object"
            ]
          },
          "metadata": {
            "tags": []
          },
          "execution_count": 49
        }
      ]
    },
    {
      "cell_type": "code",
      "metadata": {
        "id": "qDl3QDYLPR7a",
        "colab_type": "code",
        "colab": {}
      },
      "source": [
        "\n",
        "\n",
        "\n"
      ],
      "execution_count": 0,
      "outputs": []
    },
    {
      "cell_type": "code",
      "metadata": {
        "id": "HoLIFxbzI64y",
        "colab_type": "code",
        "colab": {}
      },
      "source": [
        "features = ['Talk_ID']\n",
        "X = train_data[:][features]"
      ],
      "execution_count": 0,
      "outputs": []
    },
    {
      "cell_type": "code",
      "metadata": {
        "id": "a2mAhTLEO4kQ",
        "colab_type": "code",
        "colab": {}
      },
      "source": [
        "train_data"
      ],
      "execution_count": 0,
      "outputs": []
    },
    {
      "cell_type": "code",
      "metadata": {
        "id": "AmdrXHuaLDq-",
        "colab_type": "code",
        "colab": {}
      },
      "source": [
        "def duration(duration):\n",
        "  hour, min, sec = duration.split(':')\n",
        "  length = int(hour) * 3600 + int (min) * 60 + int(sec) \n",
        "  #print(length)\n",
        "\n",
        "\n",
        "def created(created_date):\n",
        "  month, year = created_date.split('/')\n",
        "  yymm = year + month\n",
        "  int(yymm)\n",
        "\n",
        "\n",
        "def published(published_on):\n",
        "  month, date, year = published_on.split('/')\n",
        "  date = year.zfill(2) + month.zfill(2) + date.zfill(2)\n",
        "  int(date)\n",
        "\n",
        "X['length'] = [ duration(x) for x in train_data['Video_Duration'] ]\n",
        "X['created'] = [ created(x) for x in train_data['Date_Created(mm/yyyy)'] ]\n",
        "X['published'] = [ published(x) for x in train_data['Publised_On'] ]"
      ],
      "execution_count": 0,
      "outputs": []
    },
    {
      "cell_type": "code",
      "metadata": {
        "id": "EvY_OAIHKbMZ",
        "colab_type": "code",
        "colab": {}
      },
      "source": [
        "X = train_data[:][features]\n",
        "y = train_data['Total_Views']"
      ],
      "execution_count": 0,
      "outputs": []
    },
    {
      "cell_type": "code",
      "metadata": {
        "id": "Al3m9l1UIkEr",
        "colab_type": "code",
        "colab": {
          "base_uri": "https://localhost:8080/",
          "height": 622
        },
        "outputId": "55caf043-972c-4f02-d225-8a82d1f7a7d7"
      },
      "source": [
        "from sklearn.ensemble import RandomForestClassifier\n",
        "clf = RandomForestClassifier(max_depth=2, random_state=0)\n",
        "clf.fit(X, y)"
      ],
      "execution_count": 33,
      "outputs": [
        {
          "output_type": "error",
          "ename": "ValueError",
          "evalue": "ignored",
          "traceback": [
            "\u001b[0;31m---------------------------------------------------------------------------\u001b[0m",
            "\u001b[0;31mValueError\u001b[0m                                Traceback (most recent call last)",
            "\u001b[0;32m<ipython-input-33-f99abddc8a6b>\u001b[0m in \u001b[0;36m<module>\u001b[0;34m()\u001b[0m\n\u001b[1;32m      1\u001b[0m \u001b[0;32mfrom\u001b[0m \u001b[0msklearn\u001b[0m\u001b[0;34m.\u001b[0m\u001b[0mensemble\u001b[0m \u001b[0;32mimport\u001b[0m \u001b[0mRandomForestClassifier\u001b[0m\u001b[0;34m\u001b[0m\u001b[0;34m\u001b[0m\u001b[0m\n\u001b[1;32m      2\u001b[0m \u001b[0mclf\u001b[0m \u001b[0;34m=\u001b[0m \u001b[0mRandomForestClassifier\u001b[0m\u001b[0;34m(\u001b[0m\u001b[0mmax_depth\u001b[0m\u001b[0;34m=\u001b[0m\u001b[0;36m2\u001b[0m\u001b[0;34m,\u001b[0m \u001b[0mrandom_state\u001b[0m\u001b[0;34m=\u001b[0m\u001b[0;36m0\u001b[0m\u001b[0;34m)\u001b[0m\u001b[0;34m\u001b[0m\u001b[0;34m\u001b[0m\u001b[0m\n\u001b[0;32m----> 3\u001b[0;31m \u001b[0mclf\u001b[0m\u001b[0;34m.\u001b[0m\u001b[0mfit\u001b[0m\u001b[0;34m(\u001b[0m\u001b[0mX\u001b[0m\u001b[0;34m,\u001b[0m \u001b[0my\u001b[0m\u001b[0;34m)\u001b[0m\u001b[0;34m\u001b[0m\u001b[0;34m\u001b[0m\u001b[0m\n\u001b[0m",
            "\u001b[0;32m/usr/local/lib/python3.6/dist-packages/sklearn/ensemble/_forest.py\u001b[0m in \u001b[0;36mfit\u001b[0;34m(self, X, y, sample_weight)\u001b[0m\n\u001b[1;32m    293\u001b[0m         \"\"\"\n\u001b[1;32m    294\u001b[0m         \u001b[0;31m# Validate or convert input data\u001b[0m\u001b[0;34m\u001b[0m\u001b[0;34m\u001b[0m\u001b[0;34m\u001b[0m\u001b[0m\n\u001b[0;32m--> 295\u001b[0;31m         \u001b[0mX\u001b[0m \u001b[0;34m=\u001b[0m \u001b[0mcheck_array\u001b[0m\u001b[0;34m(\u001b[0m\u001b[0mX\u001b[0m\u001b[0;34m,\u001b[0m \u001b[0maccept_sparse\u001b[0m\u001b[0;34m=\u001b[0m\u001b[0;34m\"csc\"\u001b[0m\u001b[0;34m,\u001b[0m \u001b[0mdtype\u001b[0m\u001b[0;34m=\u001b[0m\u001b[0mDTYPE\u001b[0m\u001b[0;34m)\u001b[0m\u001b[0;34m\u001b[0m\u001b[0;34m\u001b[0m\u001b[0m\n\u001b[0m\u001b[1;32m    296\u001b[0m         \u001b[0my\u001b[0m \u001b[0;34m=\u001b[0m \u001b[0mcheck_array\u001b[0m\u001b[0;34m(\u001b[0m\u001b[0my\u001b[0m\u001b[0;34m,\u001b[0m \u001b[0maccept_sparse\u001b[0m\u001b[0;34m=\u001b[0m\u001b[0;34m'csc'\u001b[0m\u001b[0;34m,\u001b[0m \u001b[0mensure_2d\u001b[0m\u001b[0;34m=\u001b[0m\u001b[0;32mFalse\u001b[0m\u001b[0;34m,\u001b[0m \u001b[0mdtype\u001b[0m\u001b[0;34m=\u001b[0m\u001b[0;32mNone\u001b[0m\u001b[0;34m)\u001b[0m\u001b[0;34m\u001b[0m\u001b[0;34m\u001b[0m\u001b[0m\n\u001b[1;32m    297\u001b[0m         \u001b[0;32mif\u001b[0m \u001b[0msample_weight\u001b[0m \u001b[0;32mis\u001b[0m \u001b[0;32mnot\u001b[0m \u001b[0;32mNone\u001b[0m\u001b[0;34m:\u001b[0m\u001b[0;34m\u001b[0m\u001b[0;34m\u001b[0m\u001b[0m\n",
            "\u001b[0;32m/usr/local/lib/python3.6/dist-packages/sklearn/utils/validation.py\u001b[0m in \u001b[0;36mcheck_array\u001b[0;34m(array, accept_sparse, accept_large_sparse, dtype, order, copy, force_all_finite, ensure_2d, allow_nd, ensure_min_samples, ensure_min_features, warn_on_dtype, estimator)\u001b[0m\n\u001b[1;32m    529\u001b[0m                     \u001b[0marray\u001b[0m \u001b[0;34m=\u001b[0m \u001b[0marray\u001b[0m\u001b[0;34m.\u001b[0m\u001b[0mastype\u001b[0m\u001b[0;34m(\u001b[0m\u001b[0mdtype\u001b[0m\u001b[0;34m,\u001b[0m \u001b[0mcasting\u001b[0m\u001b[0;34m=\u001b[0m\u001b[0;34m\"unsafe\"\u001b[0m\u001b[0;34m,\u001b[0m \u001b[0mcopy\u001b[0m\u001b[0;34m=\u001b[0m\u001b[0;32mFalse\u001b[0m\u001b[0;34m)\u001b[0m\u001b[0;34m\u001b[0m\u001b[0;34m\u001b[0m\u001b[0m\n\u001b[1;32m    530\u001b[0m                 \u001b[0;32melse\u001b[0m\u001b[0;34m:\u001b[0m\u001b[0;34m\u001b[0m\u001b[0;34m\u001b[0m\u001b[0m\n\u001b[0;32m--> 531\u001b[0;31m                     \u001b[0marray\u001b[0m \u001b[0;34m=\u001b[0m \u001b[0mnp\u001b[0m\u001b[0;34m.\u001b[0m\u001b[0masarray\u001b[0m\u001b[0;34m(\u001b[0m\u001b[0marray\u001b[0m\u001b[0;34m,\u001b[0m \u001b[0morder\u001b[0m\u001b[0;34m=\u001b[0m\u001b[0morder\u001b[0m\u001b[0;34m,\u001b[0m \u001b[0mdtype\u001b[0m\u001b[0;34m=\u001b[0m\u001b[0mdtype\u001b[0m\u001b[0;34m)\u001b[0m\u001b[0;34m\u001b[0m\u001b[0;34m\u001b[0m\u001b[0m\n\u001b[0m\u001b[1;32m    532\u001b[0m             \u001b[0;32mexcept\u001b[0m \u001b[0mComplexWarning\u001b[0m\u001b[0;34m:\u001b[0m\u001b[0;34m\u001b[0m\u001b[0;34m\u001b[0m\u001b[0m\n\u001b[1;32m    533\u001b[0m                 raise ValueError(\"Complex data not supported\\n\"\n",
            "\u001b[0;32m/usr/local/lib/python3.6/dist-packages/numpy/core/_asarray.py\u001b[0m in \u001b[0;36masarray\u001b[0;34m(a, dtype, order)\u001b[0m\n\u001b[1;32m     83\u001b[0m \u001b[0;34m\u001b[0m\u001b[0m\n\u001b[1;32m     84\u001b[0m     \"\"\"\n\u001b[0;32m---> 85\u001b[0;31m     \u001b[0;32mreturn\u001b[0m \u001b[0marray\u001b[0m\u001b[0;34m(\u001b[0m\u001b[0ma\u001b[0m\u001b[0;34m,\u001b[0m \u001b[0mdtype\u001b[0m\u001b[0;34m,\u001b[0m \u001b[0mcopy\u001b[0m\u001b[0;34m=\u001b[0m\u001b[0;32mFalse\u001b[0m\u001b[0;34m,\u001b[0m \u001b[0morder\u001b[0m\u001b[0;34m=\u001b[0m\u001b[0morder\u001b[0m\u001b[0;34m)\u001b[0m\u001b[0;34m\u001b[0m\u001b[0;34m\u001b[0m\u001b[0m\n\u001b[0m\u001b[1;32m     86\u001b[0m \u001b[0;34m\u001b[0m\u001b[0m\n\u001b[1;32m     87\u001b[0m \u001b[0;34m\u001b[0m\u001b[0m\n",
            "\u001b[0;31mValueError\u001b[0m: could not convert string to float: 'David Carson'"
          ]
        }
      ]
    }
  ]
}